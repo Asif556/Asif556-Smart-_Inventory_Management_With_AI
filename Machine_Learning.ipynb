{
  "nbformat": 4,
  "nbformat_minor": 0,
  "metadata": {
    "colab": {
      "provenance": []
    },
    "kernelspec": {
      "name": "python3",
      "display_name": "Python 3"
    },
    "language_info": {
      "name": "python"
    }
  },
  "cells": [
    {
      "cell_type": "code",
      "execution_count": null,
      "metadata": {
        "colab": {
          "base_uri": "https://localhost:8080/"
        },
        "id": "HchNnNTmHjAl",
        "outputId": "a86b1bce-25b4-4ad5-d1f7-f17ddaab0d5d"
      },
      "outputs": [
        {
          "output_type": "stream",
          "name": "stdout",
          "text": [
            "Model saved as pricing_model.pkl\n"
          ]
        }
      ],
      "source": [
        "import pandas as pd\n",
        "import pickle\n",
        "from sklearn.model_selection import train_test_split\n",
        "from sklearn.linear_model import LinearRegression\n",
        "from sklearn.preprocessing import OneHotEncoder\n",
        "from sklearn.pipeline import make_pipeline\n",
        "from sklearn.compose import ColumnTransformer\n",
        "\n",
        "df = pd.read_csv(\"fruit_vegetable_pricing_dataset.csv\")\n",
        "\n",
        "X = df.drop(columns=[\"Optimal Selling Price\"])\n",
        "y = df[\"Optimal Selling Price\"]\n",
        "\n",
        "categorical_features = [\"Item Name\"]\n",
        "preprocessor = ColumnTransformer(\n",
        "    transformers=[(\"cat\", OneHotEncoder(handle_unknown='ignore'), categorical_features)],\n",
        "    remainder='passthrough'\n",
        ")\n",
        "\n",
        "model = make_pipeline(preprocessor, LinearRegression())\n",
        "\n",
        "X_train, X_test, y_train, y_test = train_test_split(X, y, test_size=0.2, random_state=42)\n",
        "\n",
        "model.fit(X_train, y_train)\n",
        "\n",
        "with open(\"pricing_model.pkl\", \"wb\") as f:\n",
        "    pickle.dump(model, f)\n",
        "\n",
        "print(\"Model saved as pricing_model.pkl\")\n"
      ]
    },
    {
      "cell_type": "code",
      "source": [
        "import pickle\n",
        "import pandas as pd\n",
        "\n",
        "# Load the trained model\n",
        "with open(\"pricing_model.pkl\", \"rb\") as f:\n",
        "    model = pickle.load(f)\n",
        "\n",
        "# Print the pipeline steps to confirm model step name\n",
        "print(model.named_steps)  # Debugging step\n",
        "\n",
        "# User input\n",
        "item_name = input(\"Enter Item Name: \").strip()\n",
        "quantity = int(input(\"Enter Quantity: \"))\n",
        "\n",
        "# Create input DataFrame (initialize missing numeric columns with 0)\n",
        "input_data = pd.DataFrame([[item_name, quantity, 0, 0, 0, 0, 0, 0, 0]],\n",
        "                          columns=[\"Item Name\", \"Quantity\", \"Purchase Cost\", \"Market Demand\", \"Seasonality\",\n",
        "                                   \"Competitor Price\", \"Previous Selling Price\", \"Sales Velocity\", \"Profit Margin\"])\n",
        "\n",
        "# Transform input using the preprocessor\n",
        "input_transformed = model.named_steps[\"columntransformer\"].transform(input_data)\n",
        "\n",
        "# Identify the correct model step name (e.g., \"ridge\" or another name)\n",
        "model_step_name = list(model.named_steps.keys())[-1]  # The last step is usually the ML model\n",
        "\n",
        "# Predict using the trained model\n",
        "predicted_price = model.named_steps[model_step_name].predict(input_transformed)[0]\n",
        "\n",
        "print(f\"Predicted Optimal Selling Price: ${predicted_price:.2f}\")\n"
      ],
      "metadata": {
        "colab": {
          "base_uri": "https://localhost:8080/"
        },
        "id": "RQ-RlskPHk9R",
        "outputId": "f43dc900-007e-418a-e2d1-e095f715baef"
      },
      "execution_count": null,
      "outputs": [
        {
          "output_type": "stream",
          "name": "stdout",
          "text": [
            "{'columntransformer': ColumnTransformer(remainder='passthrough',\n",
            "                  transformers=[('cat', OneHotEncoder(handle_unknown='ignore'),\n",
            "                                 ['Item Name'])]), 'linearregression': LinearRegression()}\n",
            "Enter Item Name: apple\n",
            "Enter Quantity: 74\n",
            "Predicted Optimal Selling Price: $-7.19\n"
          ]
        }
      ]
    },
    {
      "cell_type": "code",
      "source": [
        "print(model.named_steps)\n"
      ],
      "metadata": {
        "colab": {
          "base_uri": "https://localhost:8080/"
        },
        "id": "6xv2JdIeH2MC",
        "outputId": "25894e2b-8f7d-44c8-dc6e-035eb8882d38"
      },
      "execution_count": null,
      "outputs": [
        {
          "output_type": "stream",
          "name": "stdout",
          "text": [
            "{'columntransformer': ColumnTransformer(remainder='passthrough',\n",
            "                  transformers=[('cat', OneHotEncoder(handle_unknown='ignore'),\n",
            "                                 ['Item Name'])]), 'linearregression': LinearRegression()}\n"
          ]
        }
      ]
    },
    {
      "cell_type": "code",
      "source": [],
      "metadata": {
        "id": "iY8RY0mHItzc"
      },
      "execution_count": null,
      "outputs": []
    }
  ]
}